{
 "cells": [
  {
   "cell_type": "markdown",
   "metadata": {},
   "source": [
    "## 자료형 데이터\n",
    " > 여러개의 데이터를 하나의 변수에 저장시키는 데이터의 타입\n",
    " \n",
    " - tuple\n",
    "    - 자료형 데이터 중 가장 기본적인 형태\n",
    "    - () 안에 데이터를 적어서 저장\n",
    "    - 한번 생성이 되면 안에 원소들을 수정, 추가, 삭제 불가능\n",
    "- list\n",
    "    - [] 안에 데이터를 적어서 저장\n",
    "    - tuple과는 달리 안의 원소를 수정, 추가, 삭제 가능\n",
    "    - 내부의 함수를 이용하여 데이터 수정\n",
    "    - list의 원소의 개수는 0개부터 생성 가능\n",
    "- dict\n",
    "    - {}안에 데이터를 key : velue의 형태를 적어서 저장\n",
    "    - list는 위치를 기준으로 데이터가 생성된다면, dict는 key값을 기준으로 데이터가 생성\n",
    "    - dict의 원소의 개수는 0개부터 생성 가능"
   ]
  },
  {
   "cell_type": "code",
   "execution_count": 8,
   "metadata": {},
   "outputs": [
    {
     "name": "stdout",
     "output_type": "stream",
     "text": [
      "(10, 'test')\n",
      "(3, 3.14)\n",
      "<class 'tuple'>\n",
      "<class 'tuple'>\n"
     ]
    }
   ],
   "source": [
    "# tuple data 생성\n",
    "tuple_a = (10, 'test')\n",
    "tuple_b = (3, 3.14)\n",
    "print(tuple_a)\n",
    "print(tuple_b)\n",
    "print(type(tuple_a))\n",
    "print(type(tuple_b))"
   ]
  },
  {
   "cell_type": "code",
   "execution_count": 11,
   "metadata": {},
   "outputs": [
    {
     "name": "stdout",
     "output_type": "stream",
     "text": [
      "(10, 'test', 3, 3.14)\n",
      "(10, 'test', 10, 'test', 10, 'test')\n"
     ]
    }
   ],
   "source": [
    "# tuple 간의 결합\n",
    "tuple_c = tuple_a + tuple_b\n",
    "tuple_d = tuple_a * 3\n",
    "# 튜플은 데이터의 수정이 불가능하여 에러 발생\n",
    "#tuple_e = tuple_b + 3\n",
    "print(tuple_c)\n",
    "print(tuple_d)\n",
    "#print(tuple_e)"
   ]
  },
  {
   "cell_type": "code",
   "execution_count": 18,
   "metadata": {},
   "outputs": [
    {
     "name": "stdout",
     "output_type": "stream",
     "text": [
      "test\n",
      "('test', 10)\n",
      "(10, 'test')\n",
      "('test', 10, 'test', 10, 'test')\n",
      "test\n",
      "test\n",
      "test\n"
     ]
    }
   ],
   "source": [
    "# tuple 안에 데이터 추출\n",
    "print(tuple_d[1])\n",
    "# 두번째 데이터부터 네번째 데이터 전까지\n",
    "print(tuple_d[1:3])\n",
    "# 처음부터 세번째 데이터 전까지\n",
    "print(tuple_d[:2])\n",
    "# 두번째 데이터부터 마지막까지\n",
    "print(tuple_d[1:])\n",
    "# 마지막 데이터만 출력\n",
    "print(tuple_d[5])\n",
    "# len(tuple_d)-1\n",
    "print(tuple_d[len(tuple_d)-1])\n",
    "print(tuple_d[-1])"
   ]
  },
  {
   "cell_type": "code",
   "execution_count": 24,
   "metadata": {},
   "outputs": [
    {
     "name": "stdout",
     "output_type": "stream",
     "text": [
      "[20, 10, 40, 30]\n",
      "['abc', 'ade', 'aaa']\n",
      "<class 'list'>\n",
      "<class 'list'>\n"
     ]
    }
   ],
   "source": [
    "# list 데이터 생성\n",
    "list_a = [20, 10, 40, 30]\n",
    "list_b = ['abc', 'ade', 'aaa']\n",
    "print(list_a)\n",
    "print(list_b)\n",
    "print(type(list_a))\n",
    "print(type(list_b))"
   ]
  },
  {
   "cell_type": "code",
   "execution_count": 25,
   "metadata": {},
   "outputs": [
    {
     "name": "stdout",
     "output_type": "stream",
     "text": [
      "[10, 20, 30, 40]\n"
     ]
    }
   ],
   "source": [
    "## 정렬을 변경\n",
    "# 오름차순 정렬\n",
    "list_a.sort()\n",
    "print(list_a)"
   ]
  },
  {
   "cell_type": "code",
   "execution_count": 28,
   "metadata": {},
   "outputs": [
    {
     "name": "stdout",
     "output_type": "stream",
     "text": [
      "['abc', 'ade', 'aaa']\n"
     ]
    }
   ],
   "source": [
    "# 역순으로 정렬\n",
    "list_b.reverse()\n",
    "print(list_b)"
   ]
  },
  {
   "cell_type": "code",
   "execution_count": 29,
   "metadata": {},
   "outputs": [
    {
     "name": "stdout",
     "output_type": "stream",
     "text": [
      "[40, 30, 20, 10]\n"
     ]
    }
   ],
   "source": [
    "# 내림차순 정렬\n",
    "list_c = [20, 40, 10, 30]\n",
    "# 오름차순 정렬\n",
    "list_c.sort()\n",
    "# 역순 정렬\n",
    "list_c.reverse()\n",
    "print(list_c)"
   ]
  },
  {
   "cell_type": "code",
   "execution_count": 39,
   "metadata": {},
   "outputs": [
    {
     "name": "stdout",
     "output_type": "stream",
     "text": [
      "[40, 30, 20, 10]\n",
      "[10, 20, 30, 40]\n"
     ]
    },
    {
     "data": {
      "text/plain": [
       "[10, 20, 30, 40]"
      ]
     },
     "execution_count": 39,
     "metadata": {},
     "output_type": "execute_result"
    }
   ],
   "source": [
    "list_d = [20, 40, 10, 30]\n",
    "# 내림차순 정령\n",
    "list_d.sort(reverse=True)\n",
    "print(list_d)\n",
    "list_d.sort(reverse=False)\n",
    "print(list_d)\n",
    "sorted(list_d)\n"
   ]
  },
  {
   "cell_type": "code",
   "execution_count": 41,
   "metadata": {},
   "outputs": [
    {
     "name": "stdout",
     "output_type": "stream",
     "text": [
      "[10, 20, 30, 40, 22, 22]\n"
     ]
    }
   ],
   "source": [
    "## list에 원소를 추가\n",
    "# 마지막에 원소를 추가 .append\n",
    "list_a.append(22)\n",
    "print(list_a)"
   ]
  },
  {
   "cell_type": "code",
   "execution_count": 43,
   "metadata": {},
   "outputs": [
    {
     "name": "stdout",
     "output_type": "stream",
     "text": [
      "[10, 20, 100, 100, 30, 40, 22, 22]\n"
     ]
    }
   ],
   "source": [
    "# 특정 위치에 원소를 추가 .insert( 위치값 변수 , 추가 원소 )\n",
    "list_a.insert(2, 100)\n",
    "print(list_a)"
   ]
  },
  {
   "cell_type": "code",
   "execution_count": 45,
   "metadata": {},
   "outputs": [
    {
     "name": "stdout",
     "output_type": "stream",
     "text": [
      "[10, 20, 100, 100, 30, 40]\n"
     ]
    }
   ],
   "source": [
    "## list에 원소를 제거\n",
    "# 가장 마지막 원소를 제거.\n",
    "list_a.pop()\n",
    "print(list_a)"
   ]
  },
  {
   "cell_type": "code",
   "execution_count": 47,
   "metadata": {},
   "outputs": [
    {
     "name": "stdout",
     "output_type": "stream",
     "text": [
      "[10, 20, 100, 40]\n"
     ]
    }
   ],
   "source": [
    "# 특정 위치의 원소를 제거\n",
    "del list_a[3]\n",
    "print(list_a)"
   ]
  },
  {
   "cell_type": "code",
   "execution_count": 51,
   "metadata": {},
   "outputs": [
    {
     "name": "stdout",
     "output_type": "stream",
     "text": [
      "[20, 100, 40, 10, 10, 10, 10]\n"
     ]
    }
   ],
   "source": [
    "\n",
    "list_a.append(10)\n",
    "print(list_a)\n"
   ]
  },
  {
   "cell_type": "code",
   "execution_count": 56,
   "metadata": {},
   "outputs": [
    {
     "ename": "ValueError",
     "evalue": "list.remove(x): x not in list",
     "output_type": "error",
     "traceback": [
      "\u001b[1;31m---------------------------------------------------------------------------\u001b[0m",
      "\u001b[1;31mValueError\u001b[0m                                Traceback (most recent call last)",
      "Cell \u001b[1;32mIn[56], line 3\u001b[0m\n\u001b[0;32m      1\u001b[0m \u001b[38;5;66;03m# 특정 값을 제거\u001b[39;00m\n\u001b[0;32m      2\u001b[0m \u001b[38;5;66;03m# 해당하는 값이 2개 이상이라면 앞에 있는 데이터가 제거\u001b[39;00m\n\u001b[1;32m----> 3\u001b[0m \u001b[43mlist_a\u001b[49m\u001b[38;5;241;43m.\u001b[39;49m\u001b[43mremove\u001b[49m\u001b[43m(\u001b[49m\u001b[38;5;241;43m10\u001b[39;49m\u001b[43m)\u001b[49m\n\u001b[0;32m      4\u001b[0m \u001b[38;5;28mprint\u001b[39m(list_a)\n",
      "\u001b[1;31mValueError\u001b[0m: list.remove(x): x not in list"
     ]
    }
   ],
   "source": [
    "# 특정 값을 제거\n",
    "# 해당하는 값이 2개 이상이라면 앞에 있는 데이터가 제거\n",
    "# 제거하려는 데이터가 존재하지 안흔다면 에러가 발생\n",
    "list_a.remove(10)\n",
    "print(list_a)"
   ]
  },
  {
   "cell_type": "code",
   "execution_count": 59,
   "metadata": {},
   "outputs": [],
   "source": [
    "## 리스트를 확장 (리스트의 결합)\n",
    "# list_a += list_b 의 의미는 list_a = list_a + list_b\n",
    "list_a += list_b\n"
   ]
  },
  {
   "cell_type": "code",
   "execution_count": 60,
   "metadata": {},
   "outputs": [
    {
     "name": "stdout",
     "output_type": "stream",
     "text": [
      "[20, 100, 40, 'abc', 'ade', 'aaa']\n"
     ]
    }
   ],
   "source": [
    "print(list_a)"
   ]
  },
  {
   "cell_type": "code",
   "execution_count": 61,
   "metadata": {},
   "outputs": [
    {
     "name": "stdout",
     "output_type": "stream",
     "text": [
      "[20, 100, 40, 'abc', 'ade', 'aaa', 'abc', 'ade', 'aaa']\n"
     ]
    }
   ],
   "source": [
    "list_a.extend(list_b)\n",
    "print(list_a)"
   ]
  },
  {
   "cell_type": "code",
   "execution_count": 63,
   "metadata": {},
   "outputs": [],
   "source": [
    "a = 10\n",
    "b = a"
   ]
  },
  {
   "cell_type": "code",
   "execution_count": 65,
   "metadata": {},
   "outputs": [
    {
     "name": "stdout",
     "output_type": "stream",
     "text": [
      "10\n",
      "10\n"
     ]
    }
   ],
   "source": [
    "print(a)\n",
    "print(b)"
   ]
  },
  {
   "cell_type": "code",
   "execution_count": 67,
   "metadata": {},
   "outputs": [
    {
     "name": "stdout",
     "output_type": "stream",
     "text": [
      "10\n",
      "12\n"
     ]
    }
   ],
   "source": [
    "b += 1\n",
    "print(a)\n",
    "print(b)"
   ]
  },
  {
   "cell_type": "code",
   "execution_count": 87,
   "metadata": {},
   "outputs": [
    {
     "name": "stdout",
     "output_type": "stream",
     "text": [
      "[13, 14, 15]\n"
     ]
    }
   ],
   "source": [
    "list_qwe = [12, 13, 14]\n",
    "list_asd = [i +1 for i in list_qwe]\n",
    "print(list_asd)"
   ]
  },
  {
   "cell_type": "code",
   "execution_count": 76,
   "metadata": {},
   "outputs": [
    {
     "name": "stdout",
     "output_type": "stream",
     "text": [
      "[10, 20, 30]\n",
      "[10, 20, 30]\n"
     ]
    }
   ],
   "source": [
    "list_1 = [10, 20, 30]\n",
    "list_2 = list_1\n",
    "print(list_1)\n",
    "print(list_2)"
   ]
  },
  {
   "cell_type": "code",
   "execution_count": 77,
   "metadata": {},
   "outputs": [
    {
     "name": "stdout",
     "output_type": "stream",
     "text": [
      "[10, 20, 30, 1]\n",
      "[10, 20, 30, 1]\n"
     ]
    }
   ],
   "source": [
    "list_2.append(1)\n",
    "print(list_1)\n",
    "print(list_2)"
   ]
  },
  {
   "cell_type": "code",
   "execution_count": 78,
   "metadata": {},
   "outputs": [],
   "source": [
    "# copy() : 복사본 생성 (백업 데이터를 생성)\n",
    "list_3 = list_1.copy()"
   ]
  },
  {
   "cell_type": "code",
   "execution_count": 80,
   "metadata": {},
   "outputs": [
    {
     "name": "stdout",
     "output_type": "stream",
     "text": [
      "[10, 20, 30, 1]\n",
      "[10, 20, 30, 1]\n"
     ]
    }
   ],
   "source": [
    "print(list_1)\n",
    "print(list_3)"
   ]
  },
  {
   "cell_type": "code",
   "execution_count": 82,
   "metadata": {},
   "outputs": [
    {
     "name": "stdout",
     "output_type": "stream",
     "text": [
      "[10, 20, 30, 1]\n",
      "[10, 20]\n"
     ]
    }
   ],
   "source": [
    "list_3.pop()\n",
    "print(list_1)\n",
    "print(list_3)"
   ]
  },
  {
   "cell_type": "code",
   "execution_count": 94,
   "metadata": {},
   "outputs": [
    {
     "name": "stdout",
     "output_type": "stream",
     "text": [
      "[[10, 20, 30], [50, 60, 70]]\n",
      "60\n"
     ]
    }
   ],
   "source": [
    "## 1차원 데이터가 아닌 2차원 데이터\n",
    "list_4 = [\n",
    "    [10, 20, 30],\n",
    "    [50, 60, 70]\n",
    "]\n",
    "print(list_4)\n",
    "print(list_4[1][1])\n"
   ]
  },
  {
   "cell_type": "code",
   "execution_count": 171,
   "metadata": {},
   "outputs": [
    {
     "name": "stdout",
     "output_type": "stream",
     "text": [
      "[]\n",
      "[]\n"
     ]
    }
   ],
   "source": [
    "# 리스트는 0개 이상의 데이터를 생성이 가능\n",
    "# 예시\n",
    "list1 = []\n",
    "list2 = list()\n",
    "print(list1)\n",
    "print(list2)"
   ]
  },
  {
   "cell_type": "code",
   "execution_count": 172,
   "metadata": {},
   "outputs": [
    {
     "name": "stdout",
     "output_type": "stream",
     "text": [
      "1 4\n",
      "2 3\n",
      "3 2\n",
      "4 1\n",
      "4 6\n",
      "5 5\n",
      "6 4\n"
     ]
    }
   ],
   "source": [
    "## 두개의 주사위가 존재할 때\n",
    "## 두개의 주사위를 굴렷을 때 주사위의 합이 5의 배수인\n",
    "## 경우의 수를 리스트에 대입\n",
    "## 5의 배수 : 5로 나누었을 때 나머지가 0\n",
    "##(1, 4), (2, 3), (3, 2), (4,1) ..> 두 주사위의 합이 5일 때\n",
    "##(4,6), (5,5), (6,4) ...> 두 주사위의 합이 10일때\n",
    "dice1 = [1, 2, 3, 4, 5, 6]\n",
    "dice2 = [1, 2, 3, 4, 5, 6]\n",
    "\n",
    "for i in range(dice1[0], dice1[5]+1, 1):\n",
    "    for j in range(dice2[0], dice2[5]+1, 1):\n",
    "        result_1 = i + j\n",
    "        if  result_1 % 5 == 0:\n",
    "            print(i,j)\n",
    "            list1.append((i, j))"
   ]
  },
  {
   "cell_type": "code",
   "execution_count": 174,
   "metadata": {},
   "outputs": [
    {
     "name": "stdout",
     "output_type": "stream",
     "text": [
      "[(1, 4), (2, 3), (3, 2), (4, 1), (4, 6), (5, 5), (6, 4)]\n"
     ]
    }
   ],
   "source": [
    "print(list1)"
   ]
  },
  {
   "cell_type": "code",
   "execution_count": 177,
   "metadata": {},
   "outputs": [
    {
     "name": "stdout",
     "output_type": "stream",
     "text": [
      "False 0\n",
      "True 1\n",
      "True 1\n",
      "True 1\n",
      "True 1\n"
     ]
    }
   ],
   "source": [
    "## list  형태를 bool 의 형태로 강제 변환\n",
    "list1 = []          #False\n",
    "list2 = ['test']    #True\n",
    "list3 = ['']        #True\n",
    "list4 = [0]         #True\n",
    "list5 = [5]         #True\n",
    "\n",
    "print(bool(list1), len(list1))\n",
    "print(bool(list2), len(list2))\n",
    "print(bool(list3), len(list3))\n",
    "print(bool(list4), len(list4))\n",
    "print(bool(list5), len(list5))"
   ]
  },
  {
   "cell_type": "code",
   "execution_count": 181,
   "metadata": {},
   "outputs": [
    {
     "name": "stdout",
     "output_type": "stream",
     "text": [
      "{'name': 'test', 'age': 20}\n",
      "<class 'dict'>\n"
     ]
    }
   ],
   "source": [
    "## dict 데이터 생성\n",
    "## list와의 차이 : 기준이 다르다\n",
    "## list의 기준은 index(위치), dict 기준은 key\n",
    "dict_1 = {\n",
    "    'name' : 'test',\n",
    "    'age' : 20\n",
    "};\n",
    "print(dict_1)\n",
    "print(type(dict_1))"
   ]
  },
  {
   "cell_type": "code",
   "execution_count": 183,
   "metadata": {},
   "outputs": [
    {
     "name": "stdout",
     "output_type": "stream",
     "text": [
      "dict_keys(['name', 'age'])\n",
      "dict_values(['test', 20])\n",
      "dict_items([('name', 'test'), ('age', 20)])\n"
     ]
    }
   ],
   "source": [
    "## dict는 key와 value로 이루어져있다\n",
    "# key 값만 ㅜㄹ력\n",
    "print(dict_1.keys())\n",
    "# values 값 출력\n",
    "print(dict_1.values())\n",
    "# dict형태를 list 형태로 변환 [ (key,value)...]\n",
    "print(dict_1.items())"
   ]
  },
  {
   "cell_type": "code",
   "execution_count": 220,
   "metadata": {},
   "outputs": [
    {
     "name": "stdout",
     "output_type": "stream",
     "text": [
      "[{'name': 'test', 'age': 20}, {'name': 'test2', 'age': 30}, {'name': 'test3', 'age': 25}]\n",
      "<class 'list'>\n"
     ]
    }
   ],
   "source": [
    "## 외부에서 데이터를 로드하는 경우\n",
    "## 데이터의 형태는 [{},{}], {key : [], key : []}\n",
    "sample_1 = [\n",
    "    { 'name' : 'test',\n",
    "         'age' : 20\n",
    "    },\n",
    "     {  \n",
    "         'name' : 'test2',\n",
    "         'age' : 30\n",
    "         \n",
    "     },\n",
    "     {  \n",
    "         'name' : 'test3',\n",
    "         'age' : 25\n",
    "         \n",
    "     }\n",
    "        ]\n",
    "print(sample_1)\n",
    "print(type(sample_1))"
   ]
  },
  {
   "cell_type": "code",
   "execution_count": 202,
   "metadata": {},
   "outputs": [
    {
     "name": "stdout",
     "output_type": "stream",
     "text": [
      "{'name': 'test', 'age': 20}\n",
      "20\n",
      "30\n"
     ]
    }
   ],
   "source": [
    "# sample에서 20이라는 데이터만 추출\n",
    "print(sample_1[0])\n",
    "print(sample_1[0]['age'])\n",
    "print(sample_1[1]['age'])"
   ]
  },
  {
   "cell_type": "code",
   "execution_count": 213,
   "metadata": {},
   "outputs": [
    {
     "name": "stdout",
     "output_type": "stream",
     "text": [
      "[20]\n",
      "[20, 30]\n",
      "[20, 30, 25]\n"
     ]
    }
   ],
   "source": [
    "## sample 1에서 age의 값들만 따로 추출하여 새로운 리스트 생성\n",
    "\n",
    "## 바어았는 리스트를 생성\n",
    "\n",
    "res1 = []\n",
    "\n",
    "res1.append(\n",
    "    sample_1[0]['age']\n",
    ")\n",
    "print(res1)\n",
    "res1.append(\n",
    "    sample_1[1]['age']\n",
    ")\n",
    "print(res1)\n",
    "\n",
    "res1.append(\n",
    "    sample_1[2]['age']\n",
    ")\n",
    "print(res1)"
   ]
  },
  {
   "cell_type": "code",
   "execution_count": 217,
   "metadata": {},
   "outputs": [
    {
     "name": "stdout",
     "output_type": "stream",
     "text": [
      "[20]\n",
      "[20, 30]\n",
      "[20, 30, 25]\n"
     ]
    }
   ],
   "source": [
    "res2 = []\n",
    "\n",
    "for i in range(0 ,len(sample_1),1):\n",
    "    res2.append(\n",
    "        sample_1[i]['age']\n",
    "    )\n",
    "    print(res2)"
   ]
  },
  {
   "cell_type": "code",
   "execution_count": 230,
   "metadata": {},
   "outputs": [
    {
     "name": "stdout",
     "output_type": "stream",
     "text": [
      "<class 'dict'> {'name': 'test', 'age': 20}\n",
      "<class 'dict'> {'name': 'test2', 'age': 30}\n",
      "<class 'dict'> {'name': 'test3', 'age': 25}\n",
      "[20, 30, 25]\n"
     ]
    }
   ],
   "source": [
    "res3 = []\n",
    "for i in sample_1:\n",
    "    print(type(i),i)\n",
    "    ## sample_1 에 dict 데이터 중 age의 값들만 res3 추가\n",
    "    # print(i['age'])\n",
    "    # i가 의미하는 것은? : sample_1[0], sample_1[1], sample_1[2]\n",
    "    res3.append(\n",
    "        i['age']\n",
    "        )\n",
    "print(res3)"
   ]
  },
  {
   "cell_type": "code",
   "execution_count": 271,
   "metadata": {},
   "outputs": [],
   "source": [
    "sample_2 = {\n",
    "    'name' : ['test', 'test2', 'test3'],\n",
    "    'age' : ['20', '30', '25']\n",
    "}"
   ]
  },
  {
   "cell_type": "code",
   "execution_count": 243,
   "metadata": {},
   "outputs": [
    {
     "data": {
      "text/plain": [
       "['test', 'test2', 'test3']"
      ]
     },
     "execution_count": 243,
     "metadata": {},
     "output_type": "execute_result"
    }
   ],
   "source": [
    "#sample_2 에서 ['test', 'test2','test3']를 출력하려면\n",
    "sample_2['name']"
   ]
  },
  {
   "cell_type": "code",
   "execution_count": 288,
   "metadata": {},
   "outputs": [
    {
     "name": "stdout",
     "output_type": "stream",
     "text": [
      "name 0 test\n",
      "[{}]\n",
      "name 1 test2\n",
      "[{}, {}]\n",
      "name 2 test3\n",
      "[{}, {}, {}]\n",
      "age 0 20\n",
      "[{}, {}, {}]\n",
      "age 1 30\n",
      "[{}, {}, {}]\n",
      "age 2 25\n",
      "[{}, {}, {}]\n"
     ]
    }
   ],
   "source": [
    "sample_3 = []\n",
    "for i in sample_2:\n",
    "    # i가 의미하는 것은 sample_2의 key값\n",
    "    #print(i) >> i는 (age, name)\n",
    "    #print(sample_2[i]) >> ['test', 'test2', 'test3'], ['20', '30', '25']\n",
    "    for j in range(len(sample_2[i])):\n",
    "        print(i, j, sample_2[i][j])\n",
    "        ## 조건식 : sample_2[i]의 길이가 > sample_3길이\n",
    "        if len(sample_2[i]) > len(sample_3): ##  for i in range(3)\n",
    "            sample_3.append({})\n",
    "    ## 6번 반복을 하면서 sample3에 {}가 6개 추가\n",
    "    ## 3번(dict 안에 list의 길이) 만 추가하도록 설정\n",
    "            sample_3[j][i] = sample_2[i][j]\n",
    "        print(sample_3)"
   ]
  },
  {
   "cell_type": "code",
   "execution_count": 291,
   "metadata": {},
   "outputs": [
    {
     "name": "stdout",
     "output_type": "stream",
     "text": [
      "{'new': 1}\n",
      "{'new': 3}\n"
     ]
    }
   ],
   "source": [
    "## dict 데이터에서 key : value 추가\n",
    "test_dict = {}\n",
    "test_dict['new'] = 1\n",
    "print(test_dict)\n",
    "# 기존에 존재하는 key의 value를 변경\n",
    "test_dict['new'] = 3\n",
    "print(test_dict)"
   ]
  },
  {
   "cell_type": "code",
   "execution_count": 313,
   "metadata": {},
   "outputs": [
    {
     "data": {
      "text/plain": [
       "'돈까스'"
      ]
     },
     "execution_count": 313,
     "metadata": {},
     "output_type": "execute_result"
    }
   ],
   "source": [
    "밥집 = {'일식' : ['초밥', '돈까스', '우동'],\n",
    "'한식' : ['국밥', '제육', '닭한마리']}\n",
    "\n",
    "가격 = {'일식가격' : [1000, 2000, 3000],\n",
    "      '한식가격': [4000, 5000, 6000]}\n",
    "\n",
    "밥집['일식'][1] "
   ]
  }
 ],
 "metadata": {
  "kernelspec": {
   "display_name": "Python 3",
   "language": "python",
   "name": "python3"
  },
  "language_info": {
   "codemirror_mode": {
    "name": "ipython",
    "version": 3
   },
   "file_extension": ".py",
   "mimetype": "text/x-python",
   "name": "python",
   "nbconvert_exporter": "python",
   "pygments_lexer": "ipython3",
   "version": "3.12.2"
  }
 },
 "nbformat": 4,
 "nbformat_minor": 2
}
